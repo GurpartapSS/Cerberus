{
 "cells": [
  {
   "cell_type": "code",
   "execution_count": 4,
   "metadata": {},
   "outputs": [],
   "source": [
    "import numpy as np\n",
    "from flask import Flask, render_template, request\n",
    "import numpy as np\n",
    "from keras.models import load_model\n",
    "import string\n",
    "import json\n",
    "import nltk"
   ]
  },
  {
   "cell_type": "code",
   "execution_count": 18,
   "metadata": {},
   "outputs": [],
   "source": [
    "def read_glove_vecs(glove_file):\n",
    "    with open(glove_file,encoding='utf8') as f:\n",
    "        words = set()\n",
    "        word_to_vec_map = {}\n",
    "        for line in f:\n",
    "            line = line.strip().split()\n",
    "            curr_word = line[0]\n",
    "            words.add(curr_word)\n",
    "            word_to_vec_map[curr_word] = np.array(line[1:], dtype='float32')\n",
    "        \n",
    "        i = 1\n",
    "        words_to_index = {}\n",
    "        index_to_words = {}\n",
    "        for w in sorted(words):\n",
    "            words_to_index[w] = i\n",
    "            index_to_words[i] = w\n",
    "            i = i + 1\n",
    "    return words_to_index, index_to_words, word_to_vec_map\n",
    "\n",
    "def pp(strr):\n",
    "    words = strr.split()\n",
    "    stripped = [w.translate(table) for w in words]\n",
    "    #stripped = list(filter(None, stripped))\n",
    "    stripped = [word.lower() for word in stripped]\n",
    "    #stripped = [w for w in stripped if not w in stop_words]\n",
    "    #stemmed = [porter.stem(word) for word in stripped]\n",
    "    return(' '.join(stripped))\n",
    "\n",
    "def sentences_to_indices(X, word_to_index, max_len):\n",
    "\n",
    "    m = X.shape[0]                                   # number of training examples\n",
    "    X_indices = np.zeros((m,max_len))\n",
    "    \n",
    "    for i in range(m):                               # loop over training examples\n",
    "        sentence_words = X[i].lower().split()\n",
    "        j = 0\n",
    "        \n",
    "        # Loop over the words of sentence_words\n",
    "        for w in sentence_words:\n",
    "            # Set the (i,j)th entry of X_indices to the index of the correct word.\n",
    "            X_indices[i, j] = word_to_index[w]\n",
    "            # Increment j to j + 1\n",
    "            j = j+ 1\n",
    "            \n",
    " \n",
    "    return X_indices\n",
    "\n",
    "def cosine_similarity(u, v):\n",
    "  \n",
    "    distance = 0.0\n",
    "    dot = np.dot(u,v)\n",
    "    norm_u = np.linalg.norm(u)\n",
    "    \n",
    "    norm_v = np.linalg.norm(v)\n",
    "    cosine_similarity = dot/np.multiply(norm_u,norm_v)\n",
    "    \n",
    "    return cosine_similarity\n",
    "\n",
    "def sentence_to_avg(sentence, word_to_vec_map):\n",
    "    words = sentence.lower().split()\n",
    "    avg = np.zeros((200,))\n",
    "    for w in words:\n",
    "        avg += word_to_vec_map[w]\n",
    "    avg = avg/len(words)  \n",
    "    return avg\n",
    "\n",
    "def batao(labl,sent):\n",
    "    mini = 0\n",
    "    for i,n in enumerate(dictt[labl]):\n",
    "            cs = cosine_similarity(n[0],sentence_to_avg(pp(sent),word_to_vec_map))\n",
    "            if(cs>mini):\n",
    "                mini = cs\n",
    "                resp = n[1]\n",
    "    return(resp)\n",
    "def chat2():\n",
    "    print(\"start chit chat! (Enter quit to exit)\")\n",
    "    while True:\n",
    "        inp = input(\"You: \")\n",
    "        if len(list(inp.split(' ')))>24:\n",
    "            raise Exception(\"The length of seentence should be less than 24\")\n",
    "        if inp.lower() == \"quit\":\n",
    "            break\n",
    "        try:\n",
    "            x_test = np.array([pp(inp)])\n",
    "            X_test_indices = sentences_to_indices(x_test, word_to_index, 24)\n",
    "            pred = model.predict(X_test_indices)\n",
    "            num = np.argmax(pred)\n",
    "            lebl = labllist[num]\n",
    "            print(batao(lebl,inp))\n",
    "        except TypeError:\n",
    "            print(\"NULL value\")\n",
    "        except:\n",
    "            print(\"please use \")\n",
    "        "
   ]
  },
  {
   "cell_type": "code",
   "execution_count": 6,
   "metadata": {},
   "outputs": [
    {
     "name": "stderr",
     "output_type": "stream",
     "text": [
      "W1128 08:22:04.887823 10872 deprecation_wrapper.py:119] From D:\\MiniConda\\envs\\tensorflow\\lib\\site-packages\\keras\\backend\\tensorflow_backend.py:517: The name tf.placeholder is deprecated. Please use tf.compat.v1.placeholder instead.\n",
      "\n",
      "W1128 08:22:05.421366 10872 deprecation_wrapper.py:119] From D:\\MiniConda\\envs\\tensorflow\\lib\\site-packages\\keras\\backend\\tensorflow_backend.py:74: The name tf.get_default_graph is deprecated. Please use tf.compat.v1.get_default_graph instead.\n",
      "\n",
      "W1128 08:22:05.452355 10872 deprecation_wrapper.py:119] From D:\\MiniConda\\envs\\tensorflow\\lib\\site-packages\\keras\\backend\\tensorflow_backend.py:4138: The name tf.random_uniform is deprecated. Please use tf.random.uniform instead.\n",
      "\n",
      "W1128 08:22:06.467751 10872 deprecation_wrapper.py:119] From D:\\MiniConda\\envs\\tensorflow\\lib\\site-packages\\keras\\backend\\tensorflow_backend.py:133: The name tf.placeholder_with_default is deprecated. Please use tf.compat.v1.placeholder_with_default instead.\n",
      "\n",
      "W1128 08:22:06.474719 10872 deprecation.py:506] From D:\\MiniConda\\envs\\tensorflow\\lib\\site-packages\\keras\\backend\\tensorflow_backend.py:3445: calling dropout (from tensorflow.python.ops.nn_ops) with keep_prob is deprecated and will be removed in a future version.\n",
      "Instructions for updating:\n",
      "Please use `rate` instead of `keep_prob`. Rate should be set to `rate = 1 - keep_prob`.\n",
      "W1128 08:22:09.357313 10872 deprecation_wrapper.py:119] From D:\\MiniConda\\envs\\tensorflow\\lib\\site-packages\\keras\\backend\\tensorflow_backend.py:174: The name tf.get_default_session is deprecated. Please use tf.compat.v1.get_default_session instead.\n",
      "\n",
      "W1128 08:22:10.820485 10872 deprecation_wrapper.py:119] From D:\\MiniConda\\envs\\tensorflow\\lib\\site-packages\\keras\\optimizers.py:790: The name tf.train.Optimizer is deprecated. Please use tf.compat.v1.train.Optimizer instead.\n",
      "\n",
      "W1128 08:22:11.042498 10872 deprecation.py:323] From D:\\MiniConda\\envs\\tensorflow\\lib\\site-packages\\tensorflow\\python\\ops\\math_grad.py:1250: add_dispatch_support.<locals>.wrapper (from tensorflow.python.ops.array_ops) is deprecated and will be removed in a future version.\n",
      "Instructions for updating:\n",
      "Use tf.where in 2.0, which has the same broadcast rule as np.where\n"
     ]
    }
   ],
   "source": [
    "word_to_index, index_to_word, word_to_vec_map = read_glove_vecs('glove6b200d/glove.6B.200d.txt')\n",
    "model = load_model('chatter.h5')"
   ]
  },
  {
   "cell_type": "code",
   "execution_count": 7,
   "metadata": {},
   "outputs": [],
   "source": [
    "table = str.maketrans('', '', string.punctuation)"
   ]
  },
  {
   "cell_type": "code",
   "execution_count": 8,
   "metadata": {},
   "outputs": [],
   "source": [
    "with open(\"intents.json\") as file:\n",
    "    data = json.load(file)"
   ]
  },
  {
   "cell_type": "code",
   "execution_count": 9,
   "metadata": {},
   "outputs": [],
   "source": [
    "words = []\n",
    "labels = []\n",
    "docs_x = []\n",
    "docs_y = []\n",
    "xx = []\n",
    "for intent in data[\"intents\"]:\n",
    "        for pattern in intent[\"patterns\"]:\n",
    "            ##stemming to eliminate extra words\n",
    "            ##tokeninze\n",
    "            wrds = nltk.word_tokenize(pattern) ##list of words in patters\n",
    "            words.extend(wrds) ##instead of append\n",
    "            xx.append(pattern)\n",
    "            docs_x.append(wrds)\n",
    "            docs_y.append(intent[\"tag\"])\n",
    "            \n",
    "        if intent[\"tag\"] not in labels:\n",
    "            labels.append(intent[\"tag\"])\n",
    "            \n",
    "labels = sorted(labels)      "
   ]
  },
  {
   "cell_type": "code",
   "execution_count": 10,
   "metadata": {},
   "outputs": [],
   "source": [
    "fasa=[]\n",
    "for line in xx:\n",
    "    words = line.split()\n",
    "    stripped = [w.translate(table) for w in words]\n",
    "    stripped = [word.lower() for word in stripped]\n",
    "    fasa.append(' '.join(stripped))\n",
    "X_train = [i for i in fasa if i]"
   ]
  },
  {
   "cell_type": "code",
   "execution_count": 11,
   "metadata": {},
   "outputs": [],
   "source": [
    "reps = []\n",
    "for intent in data[\"intents\"]:\n",
    "        for responses in intent[\"responses\"]:\n",
    "            reps.append(responses)"
   ]
  },
  {
   "cell_type": "code",
   "execution_count": 12,
   "metadata": {},
   "outputs": [],
   "source": [
    "dictt = {}\n",
    "for i,n in enumerate(X_train):\n",
    "    if not docs_y[i] in dictt.keys():\n",
    "        dictt[docs_y[i]]=[]\n",
    "    dictt[docs_y[i]].append([sentence_to_avg(pp(n),word_to_vec_map),reps[i]])"
   ]
  },
  {
   "cell_type": "code",
   "execution_count": 13,
   "metadata": {},
   "outputs": [],
   "source": [
    "def predict(inp):\n",
    "    x_test = np.array([pp(inp)])\n",
    "    X_test_indices = sentences_to_indices(x_test, word_to_index, 24)\n",
    "    pred = model.predict(X_test_indices)\n",
    "    num = np.argmax(pred)\n",
    "    lebl = labllist[num]\n",
    "    return (batao(lebl,inp))"
   ]
  },
  {
   "cell_type": "code",
   "execution_count": 14,
   "metadata": {},
   "outputs": [],
   "source": [
    "labllist = np.unique(np.array(docs_y))"
   ]
  },
  {
   "cell_type": "code",
   "execution_count": 23,
   "metadata": {},
   "outputs": [],
   "source": [
    "app = Flask(__name__)\n",
    "\n",
    "@app.route('/')\n",
    "def index():\n",
    "    appDict = {\"ans\":\"oh my god!\"}\n",
    "    app_json = json.dumps(appDict)\n",
    "    return appDict\n",
    "\n",
    "@app.route(\"/test_connection/in=<inpp>\")\n",
    "def test_connection(inpp):\n",
    "    #ino=request.args.get(inp)\n",
    "    ans = {\"ans\":predict(inpp)}\n",
    "    return json.dumps(ans)\n",
    "\n",
    "@app.route(\"/indo\")\n",
    "def indo():\n",
    "\treturn render_template(\"WebPage.html\")"
   ]
  },
  {
   "cell_type": "code",
   "execution_count": 24,
   "metadata": {},
   "outputs": [
    {
     "name": "stdout",
     "output_type": "stream",
     "text": [
      " * Serving Flask app \"__main__\" (lazy loading)\n",
      " * Environment: production\n",
      "   WARNING: This is a development server. Do not use it in a production deployment.\n",
      "   Use a production WSGI server instead.\n",
      " * Debug mode: off\n"
     ]
    },
    {
     "name": "stderr",
     "output_type": "stream",
     "text": [
      "I1128 08:26:33.326798 10872 _internal.py:122]  * Running on http://127.0.0.1:5000/ (Press CTRL+C to quit)\n",
      "I1128 08:26:36.441755 12972 _internal.py:122] 127.0.0.1 - - [28/Nov/2019 08:26:36] \"\u001b[37mGET /test_connection/in=how%20much%20do%20i%20need%20to%20pay HTTP/1.1\u001b[0m\" 200 -\n",
      "I1128 08:26:48.105258  4804 _internal.py:122] 127.0.0.1 - - [28/Nov/2019 08:26:48] \"\u001b[37mGET /test_connection/in=where%20can%20i%20pay HTTP/1.1\u001b[0m\" 200 -\n",
      "I1128 08:27:55.240793  6324 _internal.py:122] 127.0.0.1 - - [28/Nov/2019 08:27:55] \"\u001b[37mGET /test_connection/in=hi HTTP/1.1\u001b[0m\" 200 -\n",
      "I1128 08:31:38.702854  6016 _internal.py:122] 127.0.0.1 - - [28/Nov/2019 08:31:38] \"\u001b[37mGET /test_connection/in=hi HTTP/1.1\u001b[0m\" 200 -\n",
      "I1128 08:32:03.160336  7968 _internal.py:122] 127.0.0.1 - - [28/Nov/2019 08:32:03] \"\u001b[37mGET /test_connection/in=hi HTTP/1.1\u001b[0m\" 200 -\n",
      "I1128 08:32:54.794818  5928 _internal.py:122] 127.0.0.1 - - [28/Nov/2019 08:32:54] \"\u001b[37mGET /test_connection/in=hi HTTP/1.1\u001b[0m\" 200 -\n",
      "I1128 08:33:13.189020 12684 _internal.py:122] 127.0.0.1 - - [28/Nov/2019 08:33:13] \"\u001b[37mGET /test_connection/in=hi HTTP/1.1\u001b[0m\" 200 -\n",
      "I1128 08:33:55.013106 15796 _internal.py:122] 127.0.0.1 - - [28/Nov/2019 08:33:55] \"\u001b[37mGET /test_connection/in=hi HTTP/1.1\u001b[0m\" 200 -\n",
      "I1128 08:34:12.940546  3236 _internal.py:122] 127.0.0.1 - - [28/Nov/2019 08:34:12] \"\u001b[37mGET /test_connection/in=how%20much%20do%20i%20need%20to%20pay?? HTTP/1.1\u001b[0m\" 200 -\n",
      "I1128 08:34:26.871124  2756 _internal.py:122] 127.0.0.1 - - [28/Nov/2019 08:34:26] \"\u001b[37mGET /test_connection/in=thank%20you HTTP/1.1\u001b[0m\" 200 -\n",
      "I1128 08:36:57.542993 15764 _internal.py:122] 127.0.0.1 - - [28/Nov/2019 08:36:57] \"\u001b[37mGET /test_connection/in=hi HTTP/1.1\u001b[0m\" 200 -\n",
      "I1128 08:37:02.012921  7604 _internal.py:122] 127.0.0.1 - - [28/Nov/2019 08:37:02] \"\u001b[37mGET /test_connection/in=hello HTTP/1.1\u001b[0m\" 200 -\n",
      "I1128 08:37:10.703842  7128 _internal.py:122] 127.0.0.1 - - [28/Nov/2019 08:37:10] \"\u001b[37mGET /test_connection/in=can%20i%20see%20something?? HTTP/1.1\u001b[0m\" 200 -\n",
      "I1128 08:38:04.859966 15952 _internal.py:122] 127.0.0.1 - - [28/Nov/2019 08:38:04] \"\u001b[37mGET /test_connection/in=hi HTTP/1.1\u001b[0m\" 200 -\n",
      "E1128 08:38:09.038633  8640 app.py:1891] Exception on /test_connection/in=heyy [GET]\n",
      "Traceback (most recent call last):\n",
      "  File \"D:\\MiniConda\\envs\\tensorflow\\lib\\site-packages\\flask\\app.py\", line 2446, in wsgi_app\n",
      "    response = self.full_dispatch_request()\n",
      "  File \"D:\\MiniConda\\envs\\tensorflow\\lib\\site-packages\\flask\\app.py\", line 1951, in full_dispatch_request\n",
      "    rv = self.handle_user_exception(e)\n",
      "  File \"D:\\MiniConda\\envs\\tensorflow\\lib\\site-packages\\flask\\app.py\", line 1820, in handle_user_exception\n",
      "    reraise(exc_type, exc_value, tb)\n",
      "  File \"D:\\MiniConda\\envs\\tensorflow\\lib\\site-packages\\flask\\_compat.py\", line 39, in reraise\n",
      "    raise value\n",
      "  File \"D:\\MiniConda\\envs\\tensorflow\\lib\\site-packages\\flask\\app.py\", line 1949, in full_dispatch_request\n",
      "    rv = self.dispatch_request()\n",
      "  File \"D:\\MiniConda\\envs\\tensorflow\\lib\\site-packages\\flask\\app.py\", line 1935, in dispatch_request\n",
      "    return self.view_functions[rule.endpoint](**req.view_args)\n",
      "  File \"<ipython-input-23-40ccf9723c72>\", line 12, in test_connection\n",
      "    ans = {\"ans\":predict(inpp)}\n",
      "  File \"<ipython-input-13-d5dea35c912f>\", line 3, in predict\n",
      "    X_test_indices = sentences_to_indices(x_test, word_to_index, 24)\n",
      "  File \"<ipython-input-18-0d572826b602>\", line 41, in sentences_to_indices\n",
      "    X_indices[i, j] = word_to_index[w]\n",
      "KeyError: 'heyy'\n",
      "I1128 08:38:09.043508  8640 _internal.py:122] 127.0.0.1 - - [28/Nov/2019 08:38:09] \"\u001b[1m\u001b[35mGET /test_connection/in=heyy HTTP/1.1\u001b[0m\" 500 -\n",
      "I1128 08:41:02.421355 16308 _internal.py:122] 127.0.0.1 - - [28/Nov/2019 08:41:02] \"\u001b[37mGET /test_connection/in=how%20much%20do%20i%20need%20to%20pay?? HTTP/1.1\u001b[0m\" 200 -\n"
     ]
    }
   ],
   "source": [
    "if __name__ == \"__main__\":\n",
    "    app.run()"
   ]
  },
  {
   "cell_type": "code",
   "execution_count": 21,
   "metadata": {},
   "outputs": [
    {
     "name": "stdout",
     "output_type": "stream",
     "text": [
      "start chit chat! (Enter quit to exit)\n",
      "You: hi\n",
      "Hello, thanks for visiting\n",
      "You: how much do i need to pay?\n",
      "Go to your student portal under the MyConcordia Menu choose \"Financial » Students Account\". Your student account will indicate the amount due each term and the deadline date by which your payment must appear on your student account.\n",
      "You: quit\n"
     ]
    }
   ],
   "source": [
    "chat2()"
   ]
  },
  {
   "cell_type": "code",
   "execution_count": 2,
   "metadata": {},
   "outputs": [],
   "source": [
    "app = Flask(__name__)\n",
    "\n",
    "@app.route('/')\n",
    "def index():\n",
    "\treturn render_template(\"home.html\")"
   ]
  },
  {
   "cell_type": "code",
   "execution_count": 22,
   "metadata": {},
   "outputs": [
    {
     "data": {
      "text/plain": [
       "'Go to your\\xa0student portal\\xa0under the MyConcordia Menu choose \"Financial » Students Account\". Your student account will indicate the amount due each term and the deadline date by which your payment must appear on your student account.'"
      ]
     },
     "execution_count": 22,
     "metadata": {},
     "output_type": "execute_result"
    }
   ],
   "source": [
    "predict(\"how much do i need to pay?\")"
   ]
  },
  {
   "cell_type": "code",
   "execution_count": null,
   "metadata": {},
   "outputs": [],
   "source": []
  }
 ],
 "metadata": {
  "kernelspec": {
   "display_name": "Python 3.6 (tensorflow)",
   "language": "python",
   "name": "tensorflow"
  },
  "language_info": {
   "codemirror_mode": {
    "name": "ipython",
    "version": 3
   },
   "file_extension": ".py",
   "mimetype": "text/x-python",
   "name": "python",
   "nbconvert_exporter": "python",
   "pygments_lexer": "ipython3",
   "version": "3.6.8"
  }
 },
 "nbformat": 4,
 "nbformat_minor": 2
}
